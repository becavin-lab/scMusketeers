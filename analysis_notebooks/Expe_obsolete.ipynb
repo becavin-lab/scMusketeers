{
 "cells": [
  {
   "cell_type": "code",
   "execution_count": null,
   "id": "f7e46ad9-7648-4814-b82b-17cc32e7e270",
   "metadata": {},
   "outputs": [],
   "source": []
  },
  {
   "attachments": {},
   "cell_type": "markdown",
   "id": "aff537d5-6e50-4ca2-a242-1e6bf7227eb6",
   "metadata": {},
   "source": [
    "# Weighted metrics"
   ]
  },
  {
   "cell_type": "code",
   "execution_count": null,
   "id": "62749fa5-63c7-40fa-8204-7f0d4c2861d8",
   "metadata": {},
   "outputs": [],
   "source": [
    "y_true = yosh.obs['Original_annotation']\n",
    "y_pred = y_true.copy()"
   ]
  },
  {
   "cell_type": "code",
   "execution_count": 275,
   "id": "75074558-5d2b-4cd5-93c6-5c695f33f085",
   "metadata": {
    "scrolled": true
   },
   "outputs": [
    {
     "name": "stdout",
     "output_type": "stream",
     "text": [
      "https://app.neptune.ai/becavin-lab/benchmark/\n",
      "Shutting down background jobs, please wait a moment...\n",
      "Done!\n",
      "Explore the metadata in the Neptune app:\n",
      "https://app.neptune.ai/becavin-lab/benchmark/metadata\n"
     ]
    }
   ],
   "source": [
    "project = neptune.init_project(\n",
    "            project=\"becavin-lab/benchmark\",\n",
    "        api_token=\"eyJhcGlfYWRkcmVzcyI6Imh0dHBzOi8vYXBwLm5lcHR1bmUuYWkiLCJhcGlfdXJsIjoiaHR0cHM6Ly9hcHAubmVwdHVuZS5haSIsImFwaV9rZXkiOiJiMmRkMWRjNS03ZGUwLTQ1MzQtYTViOS0yNTQ3MThlY2Q5NzUifQ==\",\n",
    "        mode=\"read-only\",\n",
    "            )# For checkpoint\n",
    "\n",
    "runs_table_df = project.fetch_runs_table().to_pandas()\n",
    "project.stop()"
   ]
  },
  {
   "cell_type": "code",
   "execution_count": null,
   "id": "62acdaae-a2ac-48d6-a310-6b6aa85c659b",
   "metadata": {},
   "outputs": [],
   "source": [
    "run = neptune.init_run(project=\"becavin-lab/benchmark\",\n",
    "                    api_token=\"eyJhcGlfYWRkcmVzcyI6Imh0dHBzOi8vYXBwLm5lcHR1bmUuYWkiLCJhcGlfdXJsIjoiaHR0cHM6Ly9hcHAubmVwdHVuZS5haSIsImFwaV9rZXkiOiJiMmRkMWRjNS03ZGUwLTQ1MzQtYTViOS0yNTQ3MThlY2Q5NzUifQ==\",\n",
    "                 with_id= 'BEN-1')\n",
    "run[f\"parameters/split_random_seed\"] = 0\n",
    "run.stop()"
   ]
  },
  {
   "cell_type": "code",
   "execution_count": 427,
   "id": "6a16e397-91ea-498a-84c9-e577d380e871",
   "metadata": {},
   "outputs": [],
   "source": [
    "def make_weight(y_true):\n",
    "    '''\n",
    "    return a weight for each element of y_true corresponding to the number of elements of its class.\n",
    "    Balanced metrics should use 1/weights\n",
    "    '''\n",
    "    y_true_s = pd.Series(y_true)\n",
    "    ct_weights = y_true_s.value_counts()\n",
    "    weights = np.array(y_true_s.replace(ct_weights))\n",
    "    return weights\n",
    "    \n",
    "def balanced_f1_score(y_true,y_pred):\n",
    "    weights = make_weight(y_true)\n",
    "    return f1_score(y_true, y_pred, sample_weight=1/weights)\n",
    "\n",
    "def balanced_matthews_corrcoef(y_true,y_pred):\n",
    "    weights = make_weight(y_true)\n",
    "    return matthews_corrcoef(y_true, y_pred, sample_weight=1/weights)\n",
    "\n",
    "def balanced_cohen_kappa_score(y_true,y_pred):\n",
    "    weights = make_weight(y_true)\n",
    "    return cohen_kappa_score(y_true, y_pred, sample_weight=1/weights)"
   ]
  },
  {
   "cell_type": "code",
   "execution_count": 281,
   "id": "9f896e9d-1880-4df4-b8f9-5d3882e3358e",
   "metadata": {},
   "outputs": [
    {
     "name": "stdout",
     "output_type": "stream",
     "text": [
      "https://app.neptune.ai/becavin-lab/benchmark/\n",
      "Shutting down background jobs, please wait a moment...\n",
      "Done!\n",
      "Explore the metadata in the Neptune app:\n",
      "https://app.neptune.ai/becavin-lab/benchmark/metadata\n"
     ]
    }
   ],
   "source": [
    "runs_table_df = load_run_df()"
   ]
  },
  {
   "cell_type": "code",
   "execution_count": 306,
   "id": "73481b9e-ed27-469a-bde1-d5b1a6e4d564",
   "metadata": {},
   "outputs": [],
   "source": [
    "run.stop()"
   ]
  },
  {
   "cell_type": "code",
   "execution_count": null,
   "id": "f16beecd-e628-4bba-a0fd-47de52d3a8de",
   "metadata": {},
   "outputs": [],
   "source": [
    "from tqdm.notebook import trange, tqdm\n",
    "import warnings\n",
    "\n",
    "warnings.filterwarnings('ignore')\n",
    "\n",
    "def nan_to_0(val):\n",
    "    if np.isnan(val) or pd.isna(val) or type(val) == type(None) :\n",
    "        return 0.0\n",
    "    else :\n",
    "        return val\n",
    "\n",
    "for ID, dataset_name, class_key in tqdm(zip(runs_table_df['sys_id'],runs_table_df['dataset_name'],runs_table_df['class_key'])):\n",
    "    if not pd.isna(dataset_name) and ID != 'BEN-1':\n",
    "        run = neptune.init_run(project=\"becavin-lab/benchmark\",\n",
    "                    api_token=\"eyJhcGlfYWRkcmVzcyI6Imh0dHBzOi8vYXBwLm5lcHR1bmUuYWkiLCJhcGlfdXJsIjoiaHR0cHM6Ly9hcHAubmVwdHVuZS5haSIsImFwaV9rZXkiOiJiMmRkMWRjNS03ZGUwLTQ1MzQtYTViOS0yNTQ3MThlY2Q5NzUifQ==\",\n",
    "                 with_id= ID)\n",
    "        \n",
    "        y_full = load_pred(ID)\n",
    "        y_true_full = y['true']\n",
    "        split_full = y['split']\n",
    "        y_pred_full = y['pred']\n",
    "        print(ID,dataset_name,class_key)\n",
    "        \n",
    "        ct_prop = y_true_full.value_counts() / y_true_full.value_counts().sum()\n",
    "\n",
    "        sizes = {'xxsmall' : list(ct_prop[ct_prop < 0.001].index), \n",
    "                 'small': list(ct_prop[(ct_prop >= 0.001) & (ct_prop < 0.01)].index) ,\n",
    "                 'medium': list(ct_prop[(ct_prop >= 0.01) & (ct_prop < 0.1)].index),\n",
    "                 'large': list(ct_prop[ct_prop >= 0.1].index)}\n",
    "        for group in ['train', 'test', 'val', 'full']:\n",
    "            # print(group)\n",
    "            if group != 'full':\n",
    "                y_true = y_true_full.loc[split_full == group]\n",
    "                y_pred = y_pred_full.loc[split_full == group]\n",
    "            else :\n",
    "                y_true = y_true_full\n",
    "                y_pred = y_pred_full\n",
    "            for s in sizes : \n",
    "                idx_s = np.isin(y_true, sizes[s]) # Boolean array, no issue to index y_pred\n",
    "                y_true_sub = y_true[idx_s]\n",
    "                y_pred_sub = y_pred[idx_s]\n",
    "                # print(s)\n",
    "                for metric in pred_metrics_list: \n",
    "                    # print(metric)\n",
    "                    run[f\"evaluation/{group}/{s}/{metric}\"] = nan_to_0(pred_metrics_list[metric](y_true_sub, y_pred_sub))\n",
    "                    # print(nan_to_0(pred_metrics_list[metric](y_true_sub, y_pred_sub)))\n",
    "                \n",
    "                for metric in pred_metrics_list_balanced:\n",
    "                    # print(metric)\n",
    "                    # print(nan_to_0(pred_metrics_list_balanced[metric](y_true_sub, y_pred_sub)))\n",
    "                    run[f\"evaluation/{group}/{s}/{metric}\"] = nan_to_0(pred_metrics_list_balanced[metric](y_true_sub, y_pred_sub))\n",
    "        run.stop()"
   ]
  },
  {
   "cell_type": "code",
   "execution_count": null,
   "id": "942bfd6b-26de-4e1b-8085-d4d1749d5606",
   "metadata": {},
   "outputs": [],
   "source": [
    "ct_prop = pd.Series(y_true).value_counts() / pd.Series(y_true).value_counts().sum()\n",
    "\n",
    "sizes = {'xxsmall' : list(ct_prop[ct_prop < 0.001].index), \n",
    "         'small': list(ct_prop[(ct_prop >= 0.001) & (ct_prop < 0.01)].index) ,\n",
    "         'medium': list(ct_prop[(ct_prop >= 0.01) & (ct_prop < 0.1)].index),\n",
    "         'large': list(ct_prop[ct_prop >= 0.1].index)}\n",
    "for s in sizes : \n",
    "    idx_s = np.isin(y_true, sizes[s])\n",
    "    y_true_sub = y_true[idx_s]\n",
    "    y_pred_sub = y_pred[idx_s]\n",
    "    print(s)\n",
    "    for metric in pred_metrics_list: \n",
    "        print(metric)\n",
    "        print(pred_metrics_list[metric](y_true_sub, y_pred_sub))\n",
    "    \n",
    "    for metric in pred_metrics_list_balanced:\n",
    "        print(metric)\n",
    "        print(pred_metrics_list_balanced[metric](y_true_sub, y_pred_sub))\n"
   ]
  },
  {
   "cell_type": "code",
   "execution_count": null,
   "id": "7a1d032d-dc0a-4031-9c23-9625deba8af6",
   "metadata": {},
   "outputs": [],
   "source": [
    "ct_prop = y_true.value_counts() / y_true.value_counts().sum()\n",
    "\n",
    "sizes = {'xxsmall' : ct_prop[ct_prop < 0.001].index, \n",
    "         'small': ct_prop[(ct_prop >= 0.001) & (ct_prop < 0.01)].index ,\n",
    "         'medium': ct_prop[(ct_prop >= 0.01) & (ct_prop < 0.1)].index,\n",
    "         'large': ct_prop[ct_prop >= 0.1].index}"
   ]
  },
  {
   "cell_type": "code",
   "execution_count": null,
   "id": "aa432d69-7f68-4e66-bcff-f6f332a20721",
   "metadata": {},
   "outputs": [],
   "source": [
    "y_true_sub = y_true[y_true.isin(sizes['xxsmall'])]\n",
    "y_pred_sub = y_pred[y_true_sub.index]"
   ]
  },
  {
   "cell_type": "code",
   "execution_count": null,
   "id": "14b2b6ef-9d9d-496b-b700-3ac8e5f8437f",
   "metadata": {},
   "outputs": [],
   "source": [
    "for metric in pred_metrics_list: \n",
    "    print(metric)\n",
    "    print(pred_metrics_list[metric](y_true_sub, y_pred_sub))\n",
    "\n",
    "for metric in pred_metrics_list_balanced:\n",
    "    print(metric)\n",
    "    print(pred_metrics_list_balanced[metric](y_true_sub, y_pred_sub))\n"
   ]
  },
  {
   "cell_type": "markdown",
   "id": "26d79e5a-3841-42fe-b896-8ad087c80a1b",
   "metadata": {},
   "source": [
    "# Diff with 2nd"
   ]
  },
  {
   "cell_type": "code",
   "execution_count": 85,
   "id": "877886a3-3971-4516-9f03-29dfe44d1c4f",
   "metadata": {},
   "outputs": [],
   "source": [
    "ds_names= [i for v in diff_dict for i in diff_dict[v]]\n",
    "t1_acc_res_avg = pd.concat(t1_acc_res_avg, axis=  1)\n",
    "t1_acc_res_med = pd.concat(t1_acc_res_med, axis=  1)\n",
    "t1_acc_res_avg.columns = ds_names\n",
    "t1_acc_res_med.columns = ds_names"
   ]
  },
  {
   "cell_type": "code",
   "execution_count": 88,
   "id": "6bbd2808-f34a-4da5-a0dc-77c1de801524",
   "metadata": {},
   "outputs": [],
   "source": [
    "ds_name = 'scPermut'\n",
    "ds_name = 'scPermut - default'"
   ]
  },
  {
   "cell_type": "code",
   "execution_count": 98,
   "id": "f2da7068-bcda-42d3-86c9-b7008ae7b6e5",
   "metadata": {},
   "outputs": [],
   "source": [
    "opt_avg = t1_acc_res_avg.loc['scPermut',:] - t1_acc_res_avg.loc[~t1_acc_res_avg.index.isin(['scPermut', 'scPermut - default']),:].max()\n",
    "default_avg = t1_acc_res_avg.loc['scPermut - default',:] - t1_acc_res_avg.loc[~t1_acc_res_avg.index.isin(['scPermut', 'scPermut - default']),:].max()\n",
    "opt_avg_med = t1_acc_res_med.loc['scPermut',:] - t1_acc_res_med.loc[~t1_acc_res_med.index.isin(['scPermut', 'scPermut - default']),:].max()\n",
    "default_avg_med = t1_acc_res_med.loc['scPermut - default',:] - t1_acc_res_med.loc[~t1_acc_res_med.index.isin(['scPermut', 'scPermut - default']),:].max()\n",
    "res = pd.concat([opt_avg,default_avg,opt_avg_med,default_avg_med], axis = 1)\n",
    "res.columns = ['opt_avg', 'default_avg', 'opt_avg_med', 'default_avg_med']"
   ]
  },
  {
   "cell_type": "code",
   "execution_count": 105,
   "id": "4b746958-c25f-45ec-b4d2-fbc94da5c597",
   "metadata": {},
   "outputs": [
    {
     "data": {
      "text/plain": [
       "<Axes: >"
      ]
     },
     "execution_count": 105,
     "metadata": {},
     "output_type": "execute_result"
    },
    {
     "data": {
      "image/png": "[encoded data removed]",
      "text/plain": [
       "<Figure size 432x288 with 2 Axes>"
      ]
     },
     "metadata": {
      "needs_background": "light"
     },
     "output_type": "display_data"
    }
   ],
   "source": [
    "sns.heatmap(res, annot = True, fmt = \".0%\")"
   ]
  },
  {
   "attachments": {},
   "cell_type": "markdown",
   "id": "b75a7b31-9428-4612-955f-ba3bf3d25b16",
   "metadata": {},
   "source": [
    "# yoshida test"
   ]
  },
  {
   "cell_type": "code",
   "execution_count": null,
   "id": "bbee7077-c541-42c9-99ab-4b3b5c6e502e",
   "metadata": {},
   "outputs": [],
   "source": [
    "test = pd.read_csv(working_dir + 'analysis_notebooks/benchmark_metrics/yoshida_2021/task_1_test.csv', index_col ='Id')\n",
    "f =  lambda x : x.replace('evaluation/', '').replace('parameters/', '').replace('/', '_')\n",
    "\n",
    "test.columns = np.array(list(map(f, test.columns)))\n"
   ]
  },
  {
   "cell_type": "code",
   "execution_count": null,
   "id": "89dd5118-78c7-46e1-8198-acd5390cbeee",
   "metadata": {},
   "outputs": [],
   "source": [
    "test"
   ]
  },
  {
   "attachments": {},
   "cell_type": "markdown",
   "id": "15e99fec-8335-4ebc-ad60-4843805536a5",
   "metadata": {},
   "source": [
    "### Simple but efficient dotplots"
   ]
  },
  {
   "cell_type": "code",
   "execution_count": null,
   "id": "0164e9bc-b1f6-4a7a-8424-f0629a4c826a",
   "metadata": {},
   "outputs": [],
   "source": [
    "sns.boxplot(x='model',y ='val_mcc',hue = 'test_fold_nb', data = test)"
   ]
  },
  {
   "cell_type": "code",
   "execution_count": null,
   "id": "f7421003-241f-4bba-b90d-1a5da88c7b45",
   "metadata": {},
   "outputs": [],
   "source": [
    "sns.boxplot(x='model',y ='test_mcc',hue = 'test_fold_nb', data = test)"
   ]
  },
  {
   "cell_type": "code",
   "execution_count": null,
   "id": "3ef1f940-d0ce-43d8-9d1d-7547ac5bcb9b",
   "metadata": {},
   "outputs": [],
   "source": [
    "sns.boxplot(x='model',y ='val_balanced_acc',hue = 'val_fold_nb', data = test)"
   ]
  },
  {
   "cell_type": "code",
   "execution_count": null,
   "id": "68edc3d3-08df-42ac-88fb-8d0cb3e3781c",
   "metadata": {},
   "outputs": [],
   "source": [
    "sns.boxplot(x='model',y ='test_balanced_acc',hue = 'test_fold_nb', data = test)"
   ]
  },
  {
   "cell_type": "code",
   "execution_count": null,
   "id": "ae41b352-2177-46c4-b735-79b3f0290476",
   "metadata": {},
   "outputs": [],
   "source": [
    "yosh = load_dataset('yoshida_2021', dataset_dir = working_dir + 'data')"
   ]
  },
  {
   "cell_type": "code",
   "execution_count": null,
   "id": "639cfb50-e04e-4e99-a946-6b2a5ca1b5a4",
   "metadata": {},
   "outputs": [],
   "source": [
    "def load_confusion_matrix(neptune_id,train_split= 'val', working_dir = None):\n",
    "    if working_dir :\n",
    "        save_dir = working_dir + 'experiment_script/results/' + str(neptune_run_id) + '/'\n",
    "    else :\n",
    "        save_dir = './experiment_script/results/' + str(neptune_id) + '/'\n",
    "    return pd.read_csv(save_dir + f'confusion_matrix_{train_split}.csv', index_col =0)\n",
    "\n",
    "def load_pred(neptune_id, working_dir = None):\n",
    "    if working_dir :\n",
    "        save_dir = working_dir + 'experiment_script/results/' + str(neptune_run_id) + '/'\n",
    "    else :\n",
    "        save_dir = './experiment_script/results/' + str(neptune_id) + '/'\n",
    "    return pd.read_csv(save_dir + f'predictions_full.csv', index_col =0)\n"
   ]
  },
  {
   "attachments": {},
   "cell_type": "markdown",
   "id": "f2a9431a-4e73-4080-8050-376d044a405c",
   "metadata": {},
   "source": [
    "It's just my way of computing full conf matrix that is innacurate ?"
   ]
  },
  {
   "attachments": {},
   "cell_type": "markdown",
   "id": "6f46b248-abaa-4dc6-b502-f4e0e4e390b6",
   "metadata": {},
   "source": [
    "### Plotting confusion matrix"
   ]
  },
  {
   "cell_type": "code",
   "execution_count": null,
   "id": "7e1caafc-b7cf-496f-b61c-39c2225461ca",
   "metadata": {},
   "outputs": [],
   "source": [
    "for mod, cm_to_plot in conf.items():\n",
    "    size = len(cm_to_plot.index)\n",
    "    f, ax = plt.subplots(figsize=(size/2,size/2))\n",
    "    sns.heatmap(cm_to_plot, annot=True, ax=ax,fmt ='.2g', vmin = 0)\n",
    "    show_mask = np.asarray(cm_to_plot>0.01)\n",
    "    for text, show_annot in zip(ax.texts, (element for row in show_mask for element in row)):\n",
    "        text.set_visible(show_annot)\n",
    "    ax.set_title(mod)"
   ]
  },
  {
   "attachments": {},
   "cell_type": "markdown",
   "id": "e7d0fa7c-dca6-4958-8027-5ab260d26c28",
   "metadata": {},
   "source": [
    "### Explanation of varying accuracy"
   ]
  },
  {
   "cell_type": "code",
   "execution_count": null,
   "id": "a2d7e440-2845-431f-a389-d9da53ccec43",
   "metadata": {
    "scrolled": true
   },
   "outputs": [],
   "source": [
    "adatas = {name:load_dataset(name, working_dir+ 'data') for name in dataset_names}"
   ]
  },
  {
   "cell_type": "code",
   "execution_count": null,
   "id": "2428aeb2-85ba-4f0d-8598-53e297c8b60f",
   "metadata": {},
   "outputs": [],
   "source": [
    "batch_key_dict = {'htap':'donor', \n",
    "'yoshida_2021':'batch',\n",
    "'hlca_trac_dataset_harmonized':'dataset',\n",
    "'lake_2021':'batch',\n",
    "'dominguez_2022_spleen':'batch',\n",
    "'ajrccm_by_batch':'donor',\n",
    "'tosti_2021':'batch',\n",
    "'tran_2021':'batch', \n",
    "'litvinukova_2020':'batch', \n",
    "'hlca_par_dataset_harmonized':'dataset', \n",
    "'dominguez_2022_lymph':'batch', \n",
    "'tabula_2022_spleen':'batch',\n",
    "                 'koenig_2022': 'batch'}"
   ]
  },
  {
   "cell_type": "code",
   "execution_count": null,
   "id": "4123b848-8efe-4ff4-a52d-867c25a397f5",
   "metadata": {},
   "outputs": [],
   "source": [
    "\n",
    "def get_sizes(adata, ct_key):\n",
    "    ct_prop = adata.obs[ct_key].value_counts()/ adata.n_obs\n",
    "    sizes = {'xxsmall' : list(ct_prop[ct_prop < 0.001].index), \n",
    "            'small': list(ct_prop[(ct_prop >= 0.001) & (ct_prop < 0.01)].index),\n",
    "            'medium': list(ct_prop[(ct_prop >= 0.01) & (ct_prop < 0.1)].index),\n",
    "            'large': list(ct_prop[ct_prop >= 0.1].index)}\n",
    "    return sizes"
   ]
  },
  {
   "cell_type": "code",
   "execution_count": null,
   "id": "b53db78f-117f-43b5-b632-65f123fd5b8d",
   "metadata": {},
   "outputs": [],
   "source": [
    "runs_table_df = load_run_df()\n",
    "runs_table_df.loc[(runs_table_df['model'] == 'scPermut') & (runs_table_df['use_hvg'] == 3000),'model'] = 'scPermut_default'\n"
   ]
  },
  {
   "cell_type": "code",
   "execution_count": null,
   "id": "572d2d4e-a85e-4517-925f-01c0d8645fc5",
   "metadata": {},
   "outputs": [],
   "source": [
    "task_1 = runs_table_df.query(\"task == 'task_1'\").query('deprecated_status == False').query(\"model == 'scPermut_default'\").query(\"training_scheme == 'training_scheme_8'\")#[['dataset_name', 'test_balanced_acc']]\n"
   ]
  },
  {
   "cell_type": "code",
   "execution_count": null,
   "id": "4396c30f-bcb5-4e0b-a05e-34cbec82a9f6",
   "metadata": {},
   "outputs": [],
   "source": [
    "task_1.columns"
   ]
  },
  {
   "cell_type": "code",
   "execution_count": null,
   "id": "db5b8198-a6c0-4c97-873c-b85e3859d8cf",
   "metadata": {},
   "outputs": [],
   "source": [
    "for model in tqdm(aestetic_model_name) : \n",
    "    if model in ['scPermut_default', 'scPermut']:\n",
    "        task_1 = runs_table_df.query(\"task == 'task_1'\").query('deprecated_status == False').query(f\"model == '{model}'\").query(\"training_scheme == 'training_scheme_8'\")\n",
    "    else:\n",
    "        task_1 = runs_table_df.query(\"task == 'task_1'\").query('deprecated_status == False').query(f\"model == '{model}'\")\n",
    "    print(task_1['dataset_name'].value_counts())"
   ]
  },
  {
   "cell_type": "code",
   "execution_count": null,
   "id": "a2442c63-95e6-40f3-8291-73f042095f97",
   "metadata": {},
   "outputs": [],
   "source": [
    "# task_1 = runs_table_df.query(\"task == 'task_1'\").query('deprecated_status == False').query(\"model == 'scPermut_default'\").query(\"training_scheme == 'training_scheme_8'\")#[['dataset_name', 'test_balanced_acc']]\n",
    "from tqdm.notebook import tqdm\n",
    "for model in tqdm(aestetic_model_name) : \n",
    "    if model in ['scPermut_default', 'scPermut']:\n",
    "        task_1 = runs_table_df.query(\"task == 'task_1'\").query('deprecated_status == False').query(f\"model == '{model}'\").query(\"training_scheme == 'training_scheme_8'\")\n",
    "    else:\n",
    "        task_1 = runs_table_df.query(\"task == 'task_1'\").query('deprecated_status == False').query(f\"model == '{model}'\")\n",
    "    print(task_1[model].value_counts)\n",
    "    plt.figure()\n",
    "    g=sns.pairplot(task_1[['full_batch_mixing_entropy', 'train_balanced_acc','test_balanced_acc']])\n",
    "    g.fig.suptitle(model, y=1.08) # y= some height>1"
   ]
  },
  {
   "cell_type": "code",
   "execution_count": null,
   "id": "103a350d-8982-4bcb-bb67-e5b94c3b084f",
   "metadata": {},
   "outputs": [],
   "source": [
    "complexity_df = pd.read_csv(working_dir + 'experiment_script/benchmark/complexity_df.csv', index_col = 0)"
   ]
  },
  {
   "cell_type": "code",
   "execution_count": null,
   "id": "b8526a19-cb98-4faa-930c-0f41385ada7a",
   "metadata": {},
   "outputs": [],
   "source": [
    "complexity_df.index = complexity_df.dataset"
   ]
  },
  {
   "cell_type": "code",
   "execution_count": null,
   "id": "1509801f-190f-4f60-a358-05d099a93d53",
   "metadata": {},
   "outputs": [],
   "source": [
    "n_batches = pd.Series({n:i.obs[batch_key_dict[n]].nunique() for n,i in adatas.items()})"
   ]
  },
  {
   "cell_type": "code",
   "execution_count": null,
   "id": "afc32770-6146-4b75-95ee-00cb0cf49f9a",
   "metadata": {},
   "outputs": [],
   "source": [
    "complexity_df['n_batches'] = n_batches"
   ]
  },
  {
   "cell_type": "code",
   "execution_count": null,
   "id": "12e42d91-54dc-47b9-998c-e62a265561ed",
   "metadata": {},
   "outputs": [],
   "source": [
    "for ds in complexity_df['dataset']:\n",
    "    s = {'n_' + k: len(v) for k, v in get_sizes(adatas[ds], class_key_dict[ds]).items()}\n",
    "    for k, v in s.items():\n",
    "        complexity_df.loc[ds, k] = v"
   ]
  },
  {
   "cell_type": "code",
   "execution_count": null,
   "id": "ef3cb22d-8400-4877-9567-5ae13c8b0d95",
   "metadata": {},
   "outputs": [],
   "source": [
    "complexity_df= complexity_df.reset_index()"
   ]
  },
  {
   "cell_type": "code",
   "execution_count": null,
   "id": "6ecf7d56-b279-4d16-b2dd-21f6b89e5b38",
   "metadata": {},
   "outputs": [],
   "source": [
    "complexity_df.to_csv(working_dir + 'experiment_script/benchmark/complexity_df.csv')"
   ]
  },
  {
   "cell_type": "code",
   "execution_count": null,
   "id": "35a36ed9-33ca-404b-bf3c-2a66cf276e46",
   "metadata": {},
   "outputs": [],
   "source": [
    "from sklearn.linear_model import LinearRegression\n",
    "lr = LinearRegression()"
   ]
  },
  {
   "cell_type": "code",
   "execution_count": null,
   "id": "cc0ad73b-68dc-4db9-8913-169fc266a47e",
   "metadata": {},
   "outputs": [],
   "source": [
    "task_1 = runs_table_df.query(\"task == 'task_1'\").query('deprecated_status == False').query(\"model == 'scPermut_default'\").query(\"training_scheme == 'training_scheme_8'\")[['dataset_name', 'test_balanced_acc']]\n"
   ]
  },
  {
   "cell_type": "code",
   "execution_count": null,
   "id": "05f5ec37-c33d-4191-934e-8e08427302b8",
   "metadata": {},
   "outputs": [],
   "source": [
    "df = pd.merge(task_1, complexity_df, left_on = 'dataset_name', right_on = 'dataset')\n",
    "sns.pairplot(df)"
   ]
  },
  {
   "cell_type": "code",
   "execution_count": null,
   "id": "d4f47f5e-9e59-4451-8ed1-68faf3d1ca88",
   "metadata": {},
   "outputs": [],
   "source": [
    "feature_names = ['n_cells','complexity','n_celltypes', 'n_batches', 'n_xxsmall','n_small','n_medium','n_large']\n",
    "\n",
    "for model in aestetic_model_name : \n",
    "    if model in ['scPermut_default', 'scPermut']:\n",
    "        task_1 = runs_table_df.query(\"task == 'task_1'\").query('deprecated_status == False').query(f\"model == '{model}'\").query(\"training_scheme == 'training_scheme_8'\")[['dataset_name', 'test_balanced_acc']]\n",
    "    else:\n",
    "        task_1 = runs_table_df.query(\"task == 'task_1'\").query('deprecated_status == False').query(f\"model == '{model}'\")[['dataset_name', 'test_balanced_acc']]\n",
    "\n",
    "    df = pd.merge(task_1, complexity_df, left_on = 'dataset_name', right_on = 'dataset')\n",
    "    \n",
    "    best_score = 0\n",
    "    df = df.dropna()\n",
    "    if not df.empty:\n",
    "        for L in range(len(feature_names) + 1):\n",
    "            for subset in itertools.combinations(feature_names, L):\n",
    "                if subset:\n",
    "                    subset = list(subset)\n",
    "                    lr = LinearRegression()\n",
    "                \n",
    "                    X = df[subset].values\n",
    "                    Y = df['test_balanced_acc'].values\n",
    "                    \n",
    "                    lr.fit(X, Y)\n",
    "                    score = lr.score(X, Y)\n",
    "                    if score > best_score:\n",
    "                        best_score = score\n",
    "                        best_coeff = lr.coef_\n",
    "                        best_features = subset\n",
    "                    if len(subset) == 8:\n",
    "                        full_score = score\n",
    "                        full_coeff = lr.coef_\n",
    "        plt.figure()\n",
    "        sns.heatmap(np.abs(best_coeff.reshape(-1,1)), yticklabels = best_features, annot=True)\n",
    "        plt.title(f'{model} R2 = {best_score}')"
   ]
  },
  {
   "attachments": {},
   "cell_type": "markdown",
   "id": "46107b93-28bd-4bae-b0ea-b38999cdbc2e",
   "metadata": {},
   "source": [
    "### Correlation between mean acc and dataset characteristics"
   ]
  },
  {
   "cell_type": "code",
   "execution_count": null,
   "id": "07697112-c5c6-400b-aedd-ba458719df1a",
   "metadata": {},
   "outputs": [],
   "source": [
    "{n:i.n_obs for n,i in adatas.items()}"
   ]
  },
  {
   "cell_type": "code",
   "execution_count": null,
   "id": "10d3ad38-0a97-419d-89fc-103011989363",
   "metadata": {},
   "outputs": [],
   "source": [
    "class_key_dict = {'htap':'ann_finest_level', \n",
    "'yoshida_2021':'Original_annotation',\n",
    "'hlca_trac_dataset_harmonized':'ann_finest_level',\n",
    "'lake_2021':'Original_annotation',\n",
    "'dominguez_2022_spleen':'Original_annotation',\n",
    "'ajrccm_by_batch':'celltype',\n",
    "'tosti_2021':'Original_annotation',\n",
    "'tran_2021':'Original_annotation', \n",
    "'litvinukova_2020':'Original_annotation', \n",
    "'hlca_par_dataset_harmonized':'ann_finest_level', \n",
    "'dominguez_2022_lymph':'Original_annotation', \n",
    "'tabula_2022_spleen':'Original_annotation',\n",
    "                 'koenig_2022': 'Original_annotation'}"
   ]
  },
  {
   "cell_type": "code",
   "execution_count": null,
   "id": "b8383028-4d30-46f6-8260-bec0daf02d47",
   "metadata": {
    "scrolled": true
   },
   "outputs": [],
   "source": [
    "def dataset_complexity(adata, class_key, plot_corr= False):\n",
    "    pdata = dc.get_pseudobulk(\n",
    "    adata,\n",
    "    sample_col=class_key,\n",
    "    groups_col=class_key,\n",
    "    mode='mean',\n",
    "    min_cells=0,\n",
    "    min_counts=0\n",
    ")\n",
    "    corr_matrix = pd.DataFrame(np.corrcoef(pdata.X), index = pdata.obs_names, columns = pdata.obs_names)\n",
    "    np.fill_diagonal(corr_matrix.values, 0)\n",
    "    if plot_corr:\n",
    "        plt.figure(figsize = (20,15))\n",
    "        sns.heatmap(corr_matrix, vmax = 1, vmin = 0)\n",
    "    return corr_matrix"
   ]
  },
  {
   "cell_type": "code",
   "execution_count": null,
   "id": "ba5042c9-acaf-4dca-b846-2a1d24f6a5ec",
   "metadata": {},
   "outputs": [],
   "source": [
    "comp_dict = {}\n",
    "for name, ad in adatas.items():\n",
    "    print(name)\n",
    "    print(class_key_dict[name])\n",
    "    corr = dataset_complexity(adatas[name], class_key_dict[name],plot_corr=False)\n",
    "    comp_dict[name] = corr.max(axis=1).mean()"
   ]
  },
  {
   "cell_type": "code",
   "execution_count": null,
   "id": "59d33179-a5bf-4ca2-9490-7078484edf6a",
   "metadata": {},
   "outputs": [],
   "source": [
    "complexity_df = pd.DataFrame({'dataset': adatas.keys(),'complexity': adatas.values()})"
   ]
  },
  {
   "cell_type": "code",
   "execution_count": null,
   "id": "5eab0ecd-34ca-4789-9957-928ece3824c4",
   "metadata": {},
   "outputs": [],
   "source": [
    "complexity_df = pd.DataFrame({'dataset': comp_dict.keys(),'complexity': comp_dict.values()})"
   ]
  },
  {
   "cell_type": "code",
   "execution_count": null,
   "id": "cae62394-655e-4e31-8bf0-384268b31f63",
   "metadata": {},
   "outputs": [],
   "source": [
    "complexity_df['n_cells'] = [ad.n_obs for ad in adatas.values()]\n",
    "complexity_df['n_celltypes'] = [len(ad.obs[class_key_dict[name]].unique()) for name,ad in adatas.items()]"
   ]
  },
  {
   "cell_type": "code",
   "execution_count": null,
   "id": "fb4aede1-d278-4262-902c-072493176e06",
   "metadata": {},
   "outputs": [],
   "source": [
    "complexity_df.sort_values('complexity').plot.bar(x= 'dataset', y = 'complexity', ylim= 0.7)\n",
    "complexity_df.sort_values('complexity').plot.bar(x= 'dataset', y = 'n_cells', ylim= 0.7)\n",
    "complexity_df.sort_values('complexity').plot.bar(x= 'dataset', y = 'n_celltypes', ylim= 0.7)\n"
   ]
  },
  {
   "cell_type": "code",
   "execution_count": null,
   "id": "df018153-ad38-465b-9239-29e8c9d55ceb",
   "metadata": {},
   "outputs": [],
   "source": [
    "complexity_df.to_csv(working_dir + 'experiment_script/benchmark/complexity_df.csv')"
   ]
  },
  {
   "attachments": {},
   "cell_type": "markdown",
   "id": "980f091a-0760-41ff-9fe8-b1f3a80b73d4",
   "metadata": {},
   "source": [
    "### scatterplot with error"
   ]
  },
  {
   "cell_type": "code",
   "execution_count": null,
   "id": "6db777e7-e90b-44b1-bf4e-715459410932",
   "metadata": {},
   "outputs": [],
   "source": [
    "import seaborn as sns\n",
    "import matplotlib.pyplot as plt\n",
    "\n",
    "\n",
    "def scatter_error(data, x, y, group, figsize = (7,5), ax = None, return_ax = False, show = True, title = None):\n",
    "    '''\n",
    "    scatter plots of the mean of the x and y fields by group. Additional bars are plotted representing the variances of x and y by group\n",
    "    '''\n",
    "    mean_data = data.groupby(group, as_index=False).agg({x: 'mean', y: 'mean'})\n",
    "    variance_data = data.groupby(group, as_index=False).agg({x: 'std', y: 'std'})\n",
    "\n",
    "    plt.figure(figsize = figsize)\n",
    "    sns.scatterplot(x=x, y=y, data=mean_data, hue=group, s=100, legend=\"full\", ax = ax)\n",
    "    if ax : \n",
    "        for index, row in enumerate(mean_data.itertuples()):\n",
    "            ax.errorbar(\n",
    "                x=getattr(row,x),\n",
    "                y=getattr(row,y),\n",
    "                xerr=variance_data.iloc[index][x],\n",
    "                yerr=variance_data.iloc[index][y],\n",
    "                fmt='o'\n",
    "            )\n",
    "        ax.set_xlabel(x)\n",
    "        ax.set_ylabel(y)\n",
    "    else:\n",
    "        for index, row in enumerate(mean_data.itertuples()):\n",
    "            plt.errorbar(\n",
    "                x=getattr(row,x),\n",
    "                y=getattr(row,y),\n",
    "                xerr=variance_data.iloc[index][x],\n",
    "                yerr=variance_data.iloc[index][y],\n",
    "                fmt='o'\n",
    "            )\n",
    "        plt.xlabel(x)\n",
    "        plt.ylabel(y)\n",
    "        plt.title(title)\n",
    "    if show:\n",
    "        plt.show()\n",
    "\n",
    "    plt.close()\n",
    "    if return_ax :\n",
    "\n",
    "        return ax"
   ]
  },
  {
   "attachments": {},
   "cell_type": "markdown",
   "id": "0a30c941-5f1a-4e0d-a97e-7fa5e87e8c5a",
   "metadata": {},
   "source": [
    "### scatterplot with error on a metric list"
   ]
  },
  {
   "cell_type": "code",
   "execution_count": null,
   "id": "37f9efb6-5130-4371-93d5-2b3d3394685d",
   "metadata": {},
   "outputs": [],
   "source": [
    "n_metrics = len(pred_metrics_list)\n",
    "\n",
    "f, axes = plt.subplots(n_metrics,n_metrics, figsize = (20,20),constrained_layout=True)\n",
    "i = 0\n",
    "for r in range(n_metrics):\n",
    "    for c in range(n_metrics):\n",
    "        ax = axes[r,c]\n",
    "        x = 'val_' + pred_metrics_list[c]\n",
    "        y = 'val_' + pred_metrics_list[r]\n",
    "        scatter_error(data=test, x = x, y = y, group = 'model', ax = ax, show = False)\n",
    "        ax.get_legend().remove()\n",
    "\n",
    "        if r !=0:\n",
    "            ax.set_xlabel('')\n",
    "        if r == 0:\n",
    "            ax.xaxis.set_label_position('top') \n",
    "        if c!=0 :\n",
    "            ax.set_ylabel('')\n",
    "    "
   ]
  },
  {
   "cell_type": "code",
   "execution_count": null,
   "id": "89378d57-1903-4080-bae5-4cffe9120a55",
   "metadata": {
    "scrolled": true
   },
   "outputs": [],
   "source": [
    "def plot_scatter(data, group, metric_list_1, metric_list_2, train_split = 'val'):\n",
    "    '''\n",
    "    given to sets of metrics, plots the scatterplots with error bars....\n",
    "\n",
    "    train_split : one of ['train','val','test','full']    \n",
    "    '''\n",
    "    if len(metric_list_1) == 1:\n",
    "        metric_list_1 = [metric_list_1]\n",
    "    if len(metric_list_2) == 1:\n",
    "        metric_list_2 = [metric_list_2]\n",
    "    n_metrics_1 = len(metric_list_1)\n",
    "    n_metrics_2 = len(metric_list_2)\n",
    "    f, axes = plt.subplots(n_metrics_1,n_metrics_2, figsize = (20,20),constrained_layout=True)\n",
    "    i = 0\n",
    "    for r in range(n_metrics_1):\n",
    "        for c in range(n_metrics_2):\n",
    "            ax = axes[r,c]\n",
    "            x = train_split + '_' + metric_list_2[c]\n",
    "            y = train_split + '_' + metric_list_1[r]\n",
    "            scatter_error(data=data, x = x, y = y, group = group, ax = ax, show = False)\n",
    "            ax.get_legend().remove()\n",
    "    \n",
    "            if r !=0:\n",
    "                ax.set_xlabel('')\n",
    "            if r == 0:\n",
    "                ax.xaxis.set_label_position('top') \n",
    "            if c!=0 :\n",
    "                ax.set_ylabel('')\n",
    "        "
   ]
  },
  {
   "cell_type": "code",
   "execution_count": null,
   "id": "170de55d-2861-425a-9a83-52954facc8e5",
   "metadata": {},
   "outputs": [],
   "source": [
    "plot_scatter(test, 'model', pred_metrics_list, clustering_metrics_list +clustering_metrics_list, train_split= 'val')"
   ]
  },
  {
   "attachments": {},
   "cell_type": "markdown",
   "id": "b79e35d7-1f87-427e-8c6c-53f221c64277",
   "metadata": {},
   "source": [
    "### Anti correlation of bal acc and other metrics"
   ]
  },
  {
   "cell_type": "code",
   "execution_count": null,
   "id": "bfaa810a-8dbc-46c4-b551-f29a60f96de1",
   "metadata": {},
   "outputs": [],
   "source": [
    "def metrics_correlation(data):\n",
    "    float_metrics = data.select_dtypes(include='float')\n",
    "\n",
    "    corr_matrix = pd.DataFrame(np.corrcoef(float_metrics, rowvar = False), index = float_metrics.columns, columns = float_metrics.columns)\n",
    "    corr_matrix = corr_matrix.sort_values('test_AMI', ascending=False, axis = 0)\n",
    "    corr_matrix = corr_matrix.sort_values('test_AMI', ascending=False, axis = 1)\n",
    "    plt.figure(figsize = (20,15))\n",
    "    sns.heatmap(corr_matrix, cmap = 'vlag', vmax = 1 ,vmin = -1)"
   ]
  },
  {
   "cell_type": "code",
   "execution_count": null,
   "id": "3292132d-cdfa-45cc-8856-521b4d6aee94",
   "metadata": {},
   "outputs": [],
   "source": [
    "float_metrics = test.select_dtypes(include='float')\n",
    "\n",
    "corr_matrix = pd.DataFrame(np.corrcoef(float_metrics, rowvar = False), index = float_metrics.columns, columns = float_metrics.columns)\n",
    "corr_matrix = corr_matrix.sort_values('test_AMI', ascending=False, axis = 0)\n",
    "corr_matrix = corr_matrix.sort_values('test_AMI', ascending=False, axis = 1)"
   ]
  },
  {
   "cell_type": "code",
   "execution_count": null,
   "id": "479d072e-3dab-47f0-848a-8d82ecf16a2c",
   "metadata": {},
   "outputs": [],
   "source": [
    "plt.figure(figsize = (20,15))\n",
    "sns.heatmap(corr_matrix, cmap = 'vlag', vmax = 1 ,vmin = -1)"
   ]
  },
  {
   "cell_type": "code",
   "execution_count": null,
   "id": "c03966fc-a4a8-4453-94f7-bb80b0a95be9",
   "metadata": {},
   "outputs": [],
   "source": [
    "# "
   ]
  },
  {
   "cell_type": "code",
   "execution_count": null,
   "id": "dcc3709b-8031-470f-a2ed-4c950a55535e",
   "metadata": {},
   "outputs": [],
   "source": [
    "run_id = pd.read_csv('/home/acollin/dca_permuted_workflow/sc-permut(1).csv')['Id']"
   ]
  },
  {
   "cell_type": "code",
   "execution_count": null,
   "id": "2d0e8030-415c-4a6c-b608-ee3979e7f578",
   "metadata": {},
   "outputs": [],
   "source": [
    "import time\n",
    "time.sleep(5)"
   ]
  },
  {
   "cell_type": "code",
   "execution_count": null,
   "id": "615426f5-b13d-4cd1-bfe9-adbec9fa1bd8",
   "metadata": {},
   "outputs": [],
   "source": [
    "import neptune"
   ]
  },
  {
   "cell_type": "code",
   "execution_count": null,
   "id": "93508461-8d84-4cbd-9279-ececa0479e9f",
   "metadata": {},
   "outputs": [],
   "source": [
    "run = neptune.init_run(project=\"becavin-lab/sc-permut\",\n",
    "                    api_token=\"eyJhcGlfYWRkcmVzcyI6Imh0dHBzOi8vYXBwLm5lcHR1bmUuYWkiLCJhcGlfdXJsIjoiaHR0cHM6Ly9hcHAubmVwdHVuZS5haSIsImFwaV9rZXkiOiJiMmRkMWRjNS03ZGUwLTQ1MzQtYTViOS0yNTQ3MThlY2Q5NzUifQ==\",\n",
    "                 with_id=  'SCPER-2335')"
   ]
  },
  {
   "cell_type": "code",
   "execution_count": null,
   "id": "d06efdaa-1fe9-46d9-8b1f-313affe91261",
   "metadata": {},
   "outputs": [],
   "source": [
    "run = neptune.init_run(project=\"becavin-lab/sc-permut\",\n",
    "                    api_token=\"eyJhcGlfYWRkcmVzcyI6Imh0dHBzOi8vYXBwLm5lcHR1bmUuYWkiLCJhcGlfdXJsIjoiaHR0cHM6Ly9hcHAubmVwdHVuZS5haSIsImFwaV9rZXkiOiJiMmRkMWRjNS03ZGUwLTQ1MzQtYTViOS0yNTQ3MThlY2Q5NzUifQ==\",\n",
    "                 with_id=  'SCPER-2335')\n",
    "run.stop()"
   ]
  },
  {
   "cell_type": "code",
   "execution_count": null,
   "id": "64b8281a-abda-46bb-99be-6391a6870b40",
   "metadata": {},
   "outputs": [],
   "source": []
  },
  {
   "cell_type": "code",
   "execution_count": null,
   "id": "136eedd0-21c3-40bf-bbd9-44f7c099e083",
   "metadata": {},
   "outputs": [],
   "source": [
    "for i in run_id:\n",
    "    run = neptune.init_run(project=\"becavin-lab/sc-permut\",\n",
    "                    api_token=\"eyJhcGlfYWRkcmVzcyI6Imh0dHBzOi8vYXBwLm5lcHR1bmUuYWkiLCJhcGlfdXJsIjoiaHR0cHM6Ly9hcHAubmVwdHVuZS5haSIsImFwaV9rZXkiOiJiMmRkMWRjNS03ZGUwLTQ1MzQtYTViOS0yNTQ3MThlY2Q5NzUifQ==\",\n",
    "                 with_id=  i)\n",
    "    ae_hidden_size = eval(run['parameters/ae_hidden_size'].fetch())\n",
    "    run['parameters/layer1'] = ae_hidden_size[0]\n",
    "    run['parameters/layer2'] = ae_hidden_size[1]\n",
    "    run['parameters/bottleneck'] = ae_hidden_size[2]\n",
    "    time.sleep(2)\n",
    "    run.stop()"
   ]
  },
  {
   "cell_type": "markdown",
   "id": "233d027f-b5c5-4b65-9397-f1c427929498",
   "metadata": {},
   "source": [
    "# Correlation between metrics"
   ]
  },
  {
   "cell_type": "code",
   "execution_count": null,
   "id": "6f974e51-95c2-46f1-b5d1-94213e6ed61f",
   "metadata": {},
   "outputs": [],
   "source": [
    "pred_metrics_list = {'acc' : accuracy_score, \n",
    "                'mcc' : matthews_corrcoef,\n",
    "                'f1_score': f1_score,\n",
    "                'KPA' : cohen_kappa_score,\n",
    "                'ARI': adjusted_rand_score,\n",
    "                'NMI': normalized_mutual_info_score,\n",
    "                'AMI':adjusted_mutual_info_score}\n",
    "\n",
    "pred_metrics_list_balanced = {'balanced_acc' : balanced_accuracy_score, \n",
    "                'balanced_mcc' : balanced_matthews_corrcoef,\n",
    "                'balanced_f1_score': balanced_f1_score,\n",
    "                'balanced_KPA' : balanced_cohen_kappa_score,\n",
    "                }"
   ]
  },
  {
   "cell_type": "code",
   "execution_count": null,
   "id": "0db3a533-d80e-48dd-9b79-6e72f430687a",
   "metadata": {},
   "outputs": [],
   "source": [
    "t1 = runs_table_df.query(\"task == 'task_1'\")"
   ]
  },
  {
   "cell_type": "markdown",
   "id": "e1b04bcf-94bd-486e-a498-c8b72b8cc8dc",
   "metadata": {},
   "source": [
    "### Correlation between balanced and unbalanced"
   ]
  },
  {
   "cell_type": "code",
   "execution_count": null,
   "id": "53f7a2f3-8198-49f9-a268-4c85eca96930",
   "metadata": {},
   "outputs": [],
   "source": [
    "for split in ['train', 'val', 'test']:\n",
    "    sub = t1.loc[:, [split + '_' + met for met in  pred_metrics_list.keys()] + [split + '_' + met for met in  pred_metrics_list_balanced.keys()] ].dropna()\n",
    "    sns.clustermap(sub.corr(method='pearson'), cmap = 'bwr', vmax = 1)\n",
    "    plt.title(split)\n",
    "    plt.savefig(f'{fig_dir}task_1/correlation_bal_unbal_{split}.png')"
   ]
  },
  {
   "cell_type": "markdown",
   "id": "a9bfd48b-16c4-4dd9-8afd-1ec6e4c92dd0",
   "metadata": {},
   "source": [
    "### Correlation between batch entropy and prediction metrics"
   ]
  },
  {
   "cell_type": "code",
   "execution_count": null,
   "id": "aa6294ad-5a18-4b0f-be39-89efc05415da",
   "metadata": {},
   "outputs": [],
   "source": [
    "split = 'full'\n",
    "sub = t1.loc[:, [split + '_' + met for met in  pred_metrics_list.keys()] + [split + '_' + met for met in  pred_metrics_list_balanced.keys()] + [f'{split}_batch_mixing_entropy'] ].dropna()\n",
    "sns.clustermap(sub.corr(method='pearson'), cmap = 'bwr', vmax = 1)\n",
    "plt.title(split)"
   ]
  },
  {
   "cell_type": "code",
   "execution_count": null,
   "id": "d5216c2a-30e6-478c-ae91-e8da915c064c",
   "metadata": {},
   "outputs": [],
   "source": [
    "for model in models:\n",
    "    sub = t1.query(f'model == \"{model}\"')\n",
    "    sub = sub.loc[:, [split + '_' + met for met in  pred_metrics_list.keys()] + [split + '_' + met for met in  pred_metrics_list_balanced.keys()] + [f'{split}_batch_mixing_entropy'] ].dropna()\n",
    "    sns.clustermap(sub.corr(method='pearson'), cmap = 'bwr', vmax = 1)\n",
    "    plt.title(model)\n",
    "    plt.savefig(f'{fig_dir}task_1/correlation_batch_entropy_prediction_{model}.png')"
   ]
  },
  {
   "cell_type": "markdown",
   "id": "a8e50033-ad92-4303-aa33-7f7c43b49574",
   "metadata": {},
   "source": [
    "### Correlation between small, large and overall prediction"
   ]
  },
  {
   "cell_type": "code",
   "execution_count": null,
   "id": "e1096d3d-a345-4c85-8ba9-85f0ed4adec8",
   "metadata": {},
   "outputs": [],
   "source": [
    "split = 'val'\n",
    "size_metrics_balanced = [i for i in runs_table_df.columns if split in i and 'balanced_acc' in i and 'training' not in i]\n",
    "size_metrics_unbalanced = [i for i in runs_table_df.columns if split in i and 'mcc' in i and not 'balanced' in i and 'training' not in i]\n"
   ]
  },
  {
   "cell_type": "code",
   "execution_count": null,
   "id": "c5c6af22-4181-4378-ac60-1b39cd01a8d9",
   "metadata": {},
   "outputs": [],
   "source": [
    "sub = t1.query(f'model == \"{model}\"')"
   ]
  },
  {
   "cell_type": "code",
   "execution_count": null,
   "id": "c14010ba-b585-43fd-a482-c8363f64f077",
   "metadata": {},
   "outputs": [],
   "source": [
    "# sub.loc[:,size_metrics_balanced + size_metrics_unbalanced].dropna(axis = 1)\n",
    "sub.loc[:,size_metrics_balanced]"
   ]
  },
  {
   "cell_type": "code",
   "execution_count": null,
   "id": "cd979b65-7507-4b64-9fce-a2db29f651f0",
   "metadata": {},
   "outputs": [],
   "source": [
    "for model in models:\n",
    "    sub = t1.query(f'model == \"{model}\"')\n",
    "    # sub = sub.loc[:,size_metrics_balanced + size_metrics_unbalanced]\n",
    "    sub = sub.loc[:,size_metrics_unbalanced].dropna(axis = 0)\n",
    "    sub = sub.loc[(sub!=0).all(axis = 1)]\n",
    "    sns.clustermap(sub.corr(method='pearson'), cmap = 'bwr', vmax = 1)\n",
    "    plt.title(model)\n",
    "    plt.savefig(f'{fig_dir}task_1/correlation_size_unbalanced/correlation_size_{model}.png')"
   ]
  },
  {
   "cell_type": "code",
   "execution_count": null,
   "id": "53cbcb06-daca-4569-ac79-5970b2732878",
   "metadata": {},
   "outputs": [],
   "source": [
    "for model in models:\n",
    "    sub = t1.query(f'model == \"{model}\"')\n",
    "    # sub = sub.loc[:,size_metrics_balanced + size_metrics_unbalanced]\n",
    "    sub = sub.loc[:,size_metrics_balanced].dropna(axis = 0)\n",
    "    sub = sub.loc[(sub!=0).all(axis = 1)]\n",
    "    sns.clustermap(sub.corr(method='pearson'), cmap = 'bwr', vmax = 1)\n",
    "    plt.title(model)\n",
    "    plt.savefig(f'{fig_dir}task_1/correlation_size_balanced/correlation_size_{model}.png')"
   ]
  },
  {
   "cell_type": "markdown",
   "id": "98173c84-bbc2-4d28-8c65-2dab0ddcc211",
   "metadata": {},
   "source": [
    "### Correlation between train test and val -- overfitting"
   ]
  },
  {
   "cell_type": "code",
   "execution_count": null,
   "id": "023254f8-dcc0-4cd2-abf5-b2de6b514d9d",
   "metadata": {},
   "outputs": [],
   "source": [
    "t1.query(f'model == \"{model}\"')"
   ]
  },
  {
   "cell_type": "code",
   "execution_count": null,
   "id": "289270cb-a980-4ed3-9986-5f5de6e32219",
   "metadata": {},
   "outputs": [],
   "source": [
    "for model in models:\n",
    "    if 'scmap' not in model :\n",
    "        sub = t1.query(f'model == \"{model}\"')\n",
    "        # sub = sub.loc[:,size_metrics_balanced + size_metrics_unbalanced]\n",
    "        sub = sub.loc[:, [spl + '_balanced_acc' for spl in ['train', 'test', 'val', 'full']]].dropna(axis = 0)\n",
    "        sns.clustermap(sub.corr(method='pearson'), cmap = 'bwr', vmax = 1)\n",
    "        plt.title(model)\n",
    "        plt.savefig(f'{fig_dir}task_1/correlation_overfitting/correlation_overfitting_{model}.png')"
   ]
  }
 ],
 "metadata": {
  "kernelspec": {
   "display_name": "Python (discovair)",
   "language": "python",
   "name": "discovair"
  },
  "language_info": {
   "codemirror_mode": {
    "name": "ipython",
    "version": 3
   },
   "file_extension": ".py",
   "mimetype": "text/x-python",
   "name": "python",
   "nbconvert_exporter": "python",
   "pygments_lexer": "ipython3",
   "version": "3.8.8"
  }
 },
 "nbformat": 4,
 "nbformat_minor": 5
}
